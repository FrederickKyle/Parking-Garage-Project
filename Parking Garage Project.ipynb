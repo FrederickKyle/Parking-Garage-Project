{
 "cells": [
  {
   "cell_type": "code",
   "execution_count": null,
   "id": "0391d3d1",
   "metadata": {},
   "outputs": [
    {
     "name": "stdout",
     "output_type": "stream",
     "text": [
      "How much would you like to pay? debit/credit debit\n",
      "100\n",
      "You have paid for your spot. There are 15 min left until you have to leave.\n",
      "\n",
      "You have not paid. How would you like to pay credit/debit? \n",
      "credit\n",
      "100\n",
      "\n",
      "Thank you have a nice day\n",
      "debit\n",
      "100\n",
      "\n",
      "Thank you have a nice day\n"
     ]
    }
   ],
   "source": [
    "class Parking_Garage():\n",
    "    def takeTicket():\n",
    "        ticket = 25\n",
    "        ticket -= 1\n",
    "        ticket += 1\n",
    "        parking = 30\n",
    "        parking -= 1\n",
    "        parking += 1\n",
    "        \n",
    "    def payForParking():\n",
    "        payment = input('How much would you like to pay? debit/credit ')\n",
    "        return payment\n",
    "    parking = payForParking()\n",
    "\n",
    "    if input() == '':\n",
    "        print('You have NOT paid for your ticket. Please put in amount ')\n",
    "    else: \n",
    "        print('You have paid for your spot. There are 15 min left until you have to leave.')\n",
    "\n",
    "def leaveGarage():\n",
    "    while True:\n",
    "        if input() == '':\n",
    "            print('You have not paid. How would you like to pay credit/debit? ')\n",
    "        elif input() == 'credit':\n",
    "            print(input('Please put in amount'))\n",
    "        elif input() == 'debit':\n",
    "            print(input('Please put in amount'))\n",
    "        else:\n",
    "            print('Thank you have a nice day')\n",
    "leaveGarage()\n",
    "            \n",
    "currentTicket = {'paid': True or False}\n",
    "if input() == '':\n",
    "    currentTicket['paid'] == False\n",
    "else:\n",
    "    currentTicket['paid'] == True\n",
    "    \n",
    "    "
   ]
  },
  {
   "cell_type": "code",
   "execution_count": null,
   "id": "0afa079b",
   "metadata": {},
   "outputs": [],
   "source": []
  }
 ],
 "metadata": {
  "kernelspec": {
   "display_name": "Python 3 (ipykernel)",
   "language": "python",
   "name": "python3"
  },
  "language_info": {
   "codemirror_mode": {
    "name": "ipython",
    "version": 3
   },
   "file_extension": ".py",
   "mimetype": "text/x-python",
   "name": "python",
   "nbconvert_exporter": "python",
   "pygments_lexer": "ipython3",
   "version": "3.9.12"
  }
 },
 "nbformat": 4,
 "nbformat_minor": 5
}
